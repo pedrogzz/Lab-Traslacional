{
 "cells": [
  {
   "cell_type": "code",
   "execution_count": 8,
   "metadata": {},
   "outputs": [],
   "source": [
    "import numpy as np\n",
    "from sklearn import linear_model\n",
    "import matplotlib.pyplot as plt\n"
   ]
  },
  {
   "cell_type": "code",
   "execution_count": 21,
   "metadata": {},
   "outputs": [
    {
     "name": "stdout",
     "output_type": "stream",
     "text": [
      "Ingrese Cantidad De Valores\n",
      "5\n",
      "Valor para  1 X \n",
      "12\n",
      "\n",
      "\n",
      "Valor para  1 Y\n",
      "400\n",
      "\n",
      "\n",
      "Valor para  2 X \n",
      "10\n",
      "\n",
      "\n",
      "Valor para  2 Y\n",
      "390\n",
      "\n",
      "\n",
      "Valor para  3 X \n",
      "40\n",
      "\n",
      "\n",
      "Valor para  3 Y\n",
      "1200\n",
      "\n",
      "\n",
      "Valor para  4 X \n",
      "50\n",
      "\n",
      "\n",
      "Valor para  4 Y\n",
      "1900\n",
      "\n",
      "\n",
      "Valor para  5 X \n",
      "30\n",
      "\n",
      "\n",
      "Valor para  5 Y\n",
      "950\n",
      "\n",
      "\n",
      "\n",
      "\n",
      "Los valores de X son: \n",
      "[12 10 40 50 30]\n",
      "\n",
      "\n",
      "Los valores de Y son: \n",
      "[ 400  390 1200 1900  950]\n",
      "\n",
      "\n"
     ]
    }
   ],
   "source": [
    "print(\"Ingrese Cantidad De Valores\")\n",
    "n = int(input())\n",
    "\n",
    "\n",
    "ListaX = []\n",
    "ListaY = []\n",
    "N = 1\n",
    "while N <= n: \n",
    "    \n",
    "    print (\"Valor para \",N, \"X \")\n",
    "    X =int(input())\n",
    "    print ('\\n')\n",
    "    ListaX.append(X)\n",
    "    \n",
    "    print (\"Valor para \",N,\"Y\")\n",
    "    Y =int(input())\n",
    "    print ('\\n')     \n",
    "    ListaY.append(Y)\n",
    "    \n",
    "    N = N+1\n",
    "    \n",
    "X = np.array(ListaX)\n",
    "Y = np.array(ListaY)\n",
    "print ('\\n')\n",
    "print (\"Los valores de X son: \")\n",
    "print (X)\n",
    "print ('\\n')\n",
    "print (\"Los valores de Y son: \")\n",
    "print (Y)\n",
    "print ('\\n')\n",
    "\n"
   ]
  },
  {
   "cell_type": "code",
   "execution_count": 24,
   "metadata": {},
   "outputs": [
    {
     "data": {
      "image/png": "[encoded data removed]",
      "text/plain": [
       "<Figure size 432x288 with 1 Axes>"
      ]
     },
     "metadata": {},
     "output_type": "display_data"
    }
   ],
   "source": [
    "plt.scatter(X, Y)\n",
    "plt.show()"
   ]
  },
  {
   "cell_type": "code",
   "execution_count": 26,
   "metadata": {},
   "outputs": [
    {
     "name": "stdout",
     "output_type": "stream",
     "text": [
      "35.290620871862615 -34.253632760898284\n"
     ]
    }
   ],
   "source": [
    "sumx = sum(X)\n",
    "sumy = sum(Y)\n",
    "sumx2= sum (X*X)\n",
    "sumxy= sum (X*Y)\n",
    "px = sumx/n\n",
    "py = sumy/n\n",
    "\n",
    "M = ((n*sumxy)-(sumx*sumy))/((n*sumx2)-(sumx**2))\n",
    "\n",
    "B = ((sumy*sumx2)-(sumx*sumxy))/((n*sumx2)-(sumx**2))\n",
    "\n",
    "print (M,B)\n"
   ]
  },
  {
   "cell_type": "code",
   "execution_count": 27,
   "metadata": {},
   "outputs": [
    {
     "data": {
      "image/png": "[encoded data removed]",
      "text/plain": [
       "<Figure size 432x288 with 1 Axes>"
      ]
     },
     "metadata": {},
     "output_type": "display_data"
    }
   ],
   "source": [
    "plt.scatter(X, Y)\n",
    "plt.plot(X,M*X+B)\n",
    "plt.show()"
   ]
  },
  {
   "cell_type": "code",
   "execution_count": null,
   "metadata": {},
   "outputs": [],
   "source": []
  },
  {
   "cell_type": "code",
   "execution_count": null,
   "metadata": {},
   "outputs": [],
   "source": []
  }
 ],
 "metadata": {
  "kernelspec": {
   "display_name": "Python 3",
   "language": "python",
   "name": "python3"
  },
  "language_info": {
   "codemirror_mode": {
    "name": "ipython",
    "version": 3
   },
   "file_extension": ".py",
   "mimetype": "text/x-python",
   "name": "python",
   "nbconvert_exporter": "python",
   "pygments_lexer": "ipython3",
   "version": "3.6.5"
  }
 },
 "nbformat": 4,
 "nbformat_minor": 2
}
