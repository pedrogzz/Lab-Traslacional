{
 "cells": [
  {
   "cell_type": "code",
   "execution_count": 2,
   "metadata": {},
   "outputs": [],
   "source": [
    "import numpy as np\n",
    "from sklearn import linear_model\n",
    "import matplotlib.pyplot as plt\n"
   ]
  },
  {
   "cell_type": "code",
   "execution_count": 4,
   "metadata": {},
   "outputs": [
    {
     "name": "stdout",
     "output_type": "stream",
     "text": [
      "Ingrese Cantidad De Valores\n",
      "10\n",
      "Valor para  1 X \n",
      ".25\n",
      "\n",
      "\n",
      "Valor para  1 Y\n",
      ".242\n",
      "\n",
      "\n",
      "Valor para  2 X \n",
      ".5\n",
      "\n",
      "\n",
      "Valor para  2 Y\n",
      ".5286\n",
      "\n",
      "\n",
      "Valor para  3 X \n",
      ".75\n",
      "\n",
      "\n",
      "Valor para  3 Y\n",
      "0.7694\n",
      "\n",
      "\n",
      "Valor para  4 X \n",
      "1\n",
      "\n",
      "\n",
      "Valor para  4 Y\n",
      "1.052\n",
      "\n",
      "\n",
      "Valor para  5 X \n",
      "1.25\n",
      "\n",
      "\n",
      "Valor para  5 Y\n",
      "1.319\n",
      "\n",
      "\n",
      "Valor para  6 X \n",
      "1.5\n",
      "\n",
      "\n",
      "Valor para  6 Y\n",
      "1.6616\n",
      "\n",
      "\n",
      "Valor para  7 X \n",
      "1.75\n",
      "\n",
      "\n",
      "Valor para  7 Y\n",
      "1.8888\n",
      "\n",
      "\n",
      "Valor para  8 X \n",
      "2\n",
      "\n",
      "\n",
      "Valor para  8 Y\n",
      "2.478\n",
      "\n",
      "\n",
      "Valor para  9 X \n",
      "2.25\n",
      "\n",
      "\n",
      "Valor para  9 Y\n",
      "2.7954\n",
      "\n",
      "\n",
      "Valor para  10 X \n",
      "2.5\n",
      "\n",
      "\n",
      "Valor para  10 Y\n",
      "3.1502\n",
      "\n",
      "\n",
      "\n",
      "\n",
      "Los valores de X son: \n",
      "[0.25 0.5  0.75 1.   1.25 1.5  1.75 2.   2.25 2.5 ]\n",
      "\n",
      "\n",
      "Los valores de Y son: \n",
      "[0.242  0.5286 0.7694 1.052  1.319  1.6616 1.8888 2.478  2.7954 3.1502]\n",
      "\n",
      "\n"
     ]
    }
   ],
   "source": [
    "print(\"Ingrese Cantidad De Valores\")\n",
    "n = int(input())\n",
    "\n",
    "\n",
    "ListaX = []\n",
    "ListaY = []\n",
    "N = 1\n",
    "while N <= n: \n",
    "    \n",
    "    print (\"Valor para \",N, \"X \")\n",
    "    X =float(input())\n",
    "    print ('\\n')\n",
    "    ListaX.append(X)\n",
    "    \n",
    "    print (\"Valor para \",N,\"Y\")\n",
    "    Y =float(input())\n",
    "    print ('\\n')     \n",
    "    ListaY.append(Y)\n",
    "    \n",
    "    N = N+1\n",
    "    \n",
    "X = np.array(ListaX)\n",
    "Y = np.array(ListaY)\n",
    "print ('\\n')\n",
    "print (\"Los valores de X son: \")\n",
    "print (X)\n",
    "print ('\\n')\n",
    "print (\"Los valores de Y son: \")\n",
    "print (Y)\n",
    "print ('\\n')\n",
    "\n"
   ]
  },
  {
   "cell_type": "code",
   "execution_count": 5,
   "metadata": {},
   "outputs": [
    {
     "data": {
      "image/png": "[encoded data removed]",
      "text/plain": [
       "<Figure size 432x288 with 1 Axes>"
      ]
     },
     "metadata": {},
     "output_type": "display_data"
    }
   ],
   "source": [
    "plt.scatter(X, Y)\n",
    "plt.show()"
   ]
  },
  {
   "cell_type": "code",
   "execution_count": 6,
   "metadata": {},
   "outputs": [
    {
     "name": "stdout",
     "output_type": "stream",
     "text": [
      "1.2954521212121217 -0.1927466666666662\n"
     ]
    }
   ],
   "source": [
    "sumx = sum(X)\n",
    "sumy = sum(Y)\n",
    "sumx2= sum (X*X)\n",
    "sumxy= sum (X*Y)\n",
    "px = sumx/n\n",
    "py = sumy/n\n",
    "\n",
    "M = ((n*sumxy)-(sumx*sumy))/((n*sumx2)-(sumx**2))\n",
    "\n",
    "B = ((sumy*sumx2)-(sumx*sumxy))/((n*sumx2)-(sumx**2))\n",
    "\n",
    "print (M,B)\n"
   ]
  },
  {
   "cell_type": "code",
   "execution_count": 13,
   "metadata": {},
   "outputs": [
    {
     "data": {
      "image/png": "[encoded data removed]",
      "text/plain": [
       "<Figure size 432x288 with 1 Axes>"
      ]
     },
     "metadata": {},
     "output_type": "display_data"
    }
   ],
   "source": [
    "plt.plot(X, Y, linestyle=':')\n",
    "plt.plot(X,M*X+B, color='k')\n",
    "plt.xlabel(\"Eje X \", fontsize = 10)\n",
    "plt.ylabel(\"Eje Y \", fontsize = 10)\n",
    "plt.title(\"Practica 4\", fontsize = 20)\n",
    "plt.grid(True)\n",
    "plt.show()"
   ]
  },
  {
   "cell_type": "code",
   "execution_count": null,
   "metadata": {},
   "outputs": [],
   "source": []
  },
  {
   "cell_type": "code",
   "execution_count": null,
   "metadata": {},
   "outputs": [],
   "source": []
  }
 ],
 "metadata": {
  "kernelspec": {
   "display_name": "Python 3",
   "language": "python",
   "name": "python3"
  },
  "language_info": {
   "codemirror_mode": {
    "name": "ipython",
    "version": 3
   },
   "file_extension": ".py",
   "mimetype": "text/x-python",
   "name": "python",
   "nbconvert_exporter": "python",
   "pygments_lexer": "ipython3",
   "version": "3.6.5"
  }
 },
 "nbformat": 4,
 "nbformat_minor": 2
}
